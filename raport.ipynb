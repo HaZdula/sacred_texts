{
 "cells": [
  {
   "cell_type": "code",
   "execution_count": 15,
   "metadata": {},
   "outputs": [],
   "source": [
    "import pandas as pd\n",
    "import numpy as np\n",
    "import matplotlib.pyplot as plt\n",
    "\n",
    "from sklearn.cluster import AgglomerativeClustering, DBSCAN, MiniBatchKMeans, MeanShift, SpectralClustering, KMeans, Birch\n",
    "from sklearn.mixture import GaussianMixture\n",
    "from sklearn.feature_extraction.text import TfidfTransformer, TfidfVectorizer, CountVectorizer\n",
    "from sklearn.metrics.cluster import homogeneity_score, completeness_score, v_measure_score\n",
    "\n",
    "from get_nice_text import *\n",
    "\n",
    "from sklearn.metrics import silhouette_score\n",
    "from sklearn.manifold import TSNE"
   ]
  },
  {
   "cell_type": "markdown",
   "metadata": {},
   "source": [
    "Do feature engineering spróbowaliśmy następujących podejść:\n",
    " * stop_words - usunięcie z kolumn słów pokroju \"the\", \"and\" itp.\n",
    " * entities - encja, reprezentująca @TODO nie wiem jak to ładnie opisać\n",
    " * słownika nlp - biblioteka, która zawiera własny słownik, wyodrębniający słowa z tekstu\n",
    " * TfidfTransformer - skaluje wystąpienia biorąc pod uwagę wystąpienia w całym tekście, by uwzględnić wagę i częstotliwość danego słowa\n",
    " * lematyzacja - sprowadzanie słów do ich podstawowego słowa, np. kotek -> kot, mierzyła -> miara\n",
    " * stemming - usuwanie końcówek fleksyjnych\n",
    " * usuwanie kolumn o niskiej wariancji\n",
    " \n",
    " \n",
    "@TODO\n",
    " * redukcja wymiarów przy pomocy tsne i porównanie z początkowym stanem(po prostu kolory dać wg labels)"
   ]
  },
  {
   "cell_type": "markdown",
   "metadata": {},
   "source": [
    "Część metod nie polepszyła wyników, a niektóre nawet znacznie je obniżyła. Ostatecznie zdecydowaliśmy się na wykorzystanie stop-words z angielskiego słownika oraz TfidfTransformer z sklearn."
   ]
  },
  {
   "cell_type": "markdown",
   "metadata": {},
   "source": [
    "## Przykładowy model"
   ]
  },
  {
   "cell_type": "code",
   "execution_count": 13,
   "metadata": {},
   "outputs": [],
   "source": [
    "def train_fast(df, Model, labels, **kwargs):\n",
    "    \"\"\"\n",
    "    Trenuje Model na sparse matrix df\n",
    "    @example\n",
    "    train fast(df, KMeans, n_clusters=8)\n",
    "    \"\"\"\n",
    "    trans = TfidfTransformer()\n",
    "    df_trans = trans.fit_transform(df)\n",
    "    model = Model(**kwargs)\n",
    "    lab = model.fit_predict(df_trans)\n",
    "    \n",
    "    ret = {}\n",
    "    \n",
    "    ret[\"homogeneity_score\"] = homogeneity_score(labels, lab)\n",
    "    ret[\"completeness_score\"] = completeness_score(labels, lab)\n",
    "    ret[\"v_measure_score\"] = v_measure_score(labels, lab)\n",
    "    \n",
    "\n",
    "    return lab, ret, model"
   ]
  },
  {
   "cell_type": "code",
   "execution_count": 9,
   "metadata": {},
   "outputs": [
    {
     "data": {
      "text/plain": [
       "{'homogeneity_score': 0.5504130721916395,\n",
       " 'completeness_score': 0.5575716186373115,\n",
       " 'v_measure_score': 0.5539692201909778}"
      ]
     },
     "execution_count": 9,
     "metadata": {},
     "output_type": "execute_result"
    }
   ],
   "source": [
    "df = get_nice_text()\n",
    "np.random.seed(123)\n",
    "\n",
    "cv = CountVectorizer()\n",
    "df_count = cv.fit_transform(df)\n",
    "\n",
    "lab, scores, m = train_fast(df_count, KMeans, get_labels(True), n_clusters=5, random_state = 123)\n",
    "scores"
   ]
  },
  {
   "cell_type": "markdown",
   "metadata": {},
   "source": [
    "## Przetestowane modele"
   ]
  },
  {
   "cell_type": "markdown",
   "metadata": {},
   "source": [
    " * KMeans\n",
    " * MiniBatchKMeans\n",
    " * DBSCAN\n",
    " * Birch\n",
    " * AgglomerativeClustering\n",
    " * SpectralClustering\n",
    " * GaussianMixture\n",
    " \n",
    " Do testowania wyników modeli użyliśmy specjanie stworzonej przez nas funkcji fast_GridSearch, która umożliwia nam przetestowanie wielu różnych modeli z różnymi parametrami."
   ]
  },
  {
   "cell_type": "code",
   "execution_count": null,
   "metadata": {},
   "outputs": [],
   "source": []
  },
  {
   "cell_type": "markdown",
   "metadata": {},
   "source": [
    "# < tu obluiczenia z gridsearchfast>"
   ]
  },
  {
   "cell_type": "code",
   "execution_count": null,
   "metadata": {},
   "outputs": [],
   "source": []
  },
  {
   "cell_type": "markdown",
   "metadata": {},
   "source": [
    "# Biblia czy księgi?\n",
    "Na początku projektu postawiliśmny hipotezę, iż łączenie ksiąg bilblijnych w jedną klasę 'Biblia' sprawi, iż modele będą osiągały lepsze wyniki. Mając wytrenowane modele dla obu wariantów możemy porównać te wyniki i jasno potwierdzić lub obalić hipotezę."
   ]
  },
  {
   "cell_type": "markdown",
   "metadata": {},
   "source": [
    "Spójrzmy jednak najpierw na dobrze nam znany łokieć oraz silhouette_score dla najbardziej trywialnego algorytmu - KMeans:"
   ]
  },
  {
   "cell_type": "code",
   "execution_count": 17,
   "metadata": {
    "scrolled": true
   },
   "outputs": [],
   "source": [
    "np.random.seed(123)\n",
    "l = []\n",
    "s = []\n",
    "for i in range(2,11):\n",
    "    lab, ret, m = train_fast(df_count, KMeans, get_labels(True), random_state = 123, n_clusters = i)\n",
    "    l.append(m.inertia_)\n",
    "    s.append(silhouette_score(df_count, lab))"
   ]
  },
  {
   "cell_type": "code",
   "execution_count": 18,
   "metadata": {},
   "outputs": [
    {
     "data": {
      "image/png": "[encoded data removed]",
      "text/plain": [
       "<Figure size 432x288 with 1 Axes>"
      ]
     },
     "metadata": {
      "needs_background": "light"
     },
     "output_type": "display_data"
    }
   ],
   "source": [
    "plt.plot(range(2,11), l, 'bx-')\n",
    "plt.xlabel('k')\n",
    "plt.ylabel('Inertia')\n",
    "plt.show()"
   ]
  },
  {
   "cell_type": "code",
   "execution_count": 19,
   "metadata": {},
   "outputs": [
    {
     "data": {
      "image/png": "[encoded data removed]",
      "text/plain": [
       "<Figure size 432x288 with 1 Axes>"
      ]
     },
     "metadata": {
      "needs_background": "light"
     },
     "output_type": "display_data"
    }
   ],
   "source": [
    "plt.plot(range(2,11), s, 'bx-')\n",
    "plt.xlabel('k')\n",
    "plt.ylabel('Silhouette score')\n",
    "plt.show()"
   ]
  },
  {
   "cell_type": "markdown",
   "metadata": {},
   "source": [
    "Porównajmy teraz wyniki z naszych modeli:"
   ]
  },
  {
   "cell_type": "code",
   "execution_count": 1,
   "metadata": {},
   "outputs": [
    {
     "ename": "NameError",
     "evalue": "name 'results_table5' is not defined",
     "output_type": "error",
     "traceback": [
      "\u001b[0;31m---------------------------------------------------------------------------\u001b[0m",
      "\u001b[0;31mNameError\u001b[0m                                 Traceback (most recent call last)",
      "\u001b[0;32m<ipython-input-1-47d7390237a8>\u001b[0m in \u001b[0;36m<module>\u001b[0;34m\u001b[0m\n\u001b[1;32m      1\u001b[0m \u001b[0;31m#@chuj zrobie rano\u001b[0m\u001b[0;34m\u001b[0m\u001b[0;34m\u001b[0m\u001b[0;34m\u001b[0m\u001b[0m\n\u001b[0;32m----> 2\u001b[0;31m \u001b[0mresults_table5\u001b[0m\u001b[0;34m.\u001b[0m\u001b[0mloc\u001b[0m\u001b[0;34m[\u001b[0m\u001b[0;34m\"score\"\u001b[0m\u001b[0;34m]\u001b[0m\u001b[0;34m\u001b[0m\u001b[0;34m\u001b[0m\u001b[0m\n\u001b[0m",
      "\u001b[0;31mNameError\u001b[0m: name 'results_table5' is not defined"
     ]
    }
   ],
   "source": [
    "#@chuj zrobie rano \n",
    "#results_table5.loc[\"score\"]\n",
    "# różnica średnich wyników dla n =5, n=8, może jakaś gęstość??? to by było ładne"
   ]
  },
  {
   "cell_type": "code",
   "execution_count": null,
   "metadata": {},
   "outputs": [],
   "source": []
  },
  {
   "cell_type": "code",
   "execution_count": null,
   "metadata": {},
   "outputs": [],
   "source": []
  },
  {
   "cell_type": "markdown",
   "metadata": {},
   "source": [
    "# Wnioski"
   ]
  },
  {
   "cell_type": "markdown",
   "metadata": {},
   "source": [
    "* Najlepszym modelem okazał się ___\n",
    "* Początkowa hipoteza, iż połączenie wszystkich księg Bibli i oznaczenie jej jako jednej klasy będzie wspomagało modele okazała się nieprawdziwa - modele osiągały lepsze wyniki gdy każda księga Bibli była traktowana jako oddzielna klasa\n",
    "* NLP jest rozległą i skomplikowaną dziedziną, której nie sposób \"ot tak\" zaimplementować. Trzeba przyłożyć do niej dużo uwagi i wiedzy, by móc w niej działać."
   ]
  }
 ],
 "metadata": {
  "kernelspec": {
   "display_name": "Python 3",
   "language": "python",
   "name": "python3"
  },
  "language_info": {
   "codemirror_mode": {
    "name": "ipython",
    "version": 3
   },
   "file_extension": ".py",
   "mimetype": "text/x-python",
   "name": "python",
   "nbconvert_exporter": "python",
   "pygments_lexer": "ipython3",
   "version": "3.7.1"
  }
 },
 "nbformat": 4,
 "nbformat_minor": 4
}
