{
 "cells": [
  {
   "cell_type": "code",
   "execution_count": 1,
   "metadata": {},
   "outputs": [],
   "source": [
    "from sklearn.feature_extraction.text import TfidfTransformer, TfidfVectorizer, CountVectorizer\n",
    "from sklearn.metrics.cluster import homogeneity_score, completeness_score, v_measure_score\n",
    "from get_nice_text import *\n",
    "\n",
    "import pandas as pd\n",
    "import re\n",
    "import numpy as np\n",
    "\n",
    "from sklearn.cluster import KMeans\n",
    "from sklearn.cluster import AgglomerativeClustering, DBSCAN, MiniBatchKMeans, MeanShift, SpectralClustering\n",
    "from sklearn.mixture import GaussianMixture"
   ]
  },
  {
   "cell_type": "code",
   "execution_count": 2,
   "metadata": {},
   "outputs": [],
   "source": [
    "def train_fast(df, Model, labels, **kwargs):\n",
    "    \"\"\"\n",
    "    Trenuje Model na sparse matrix df\n",
    "    @example\n",
    "    train fast(df, KMeans, n_clusters=8)\n",
    "    \"\"\"\n",
    "    trans = TfidfTransformer()\n",
    "    df_trans = trans.fit_transform(df)\n",
    "    model = Model(**kwargs)\n",
    "    lab = model.fit_predict(df_trans)\n",
    "    \n",
    "    ret = {}\n",
    "    \n",
    "    ret[\"homogeneity_score\"] = homogeneity_score(labels, lab)\n",
    "    ret[\"completeness_score\"] = completeness_score(labels, lab)\n",
    "    ret[\"v_measure_score\"] = v_measure_score(labels, lab)\n",
    "    \n",
    "    return lab, ret"
   ]
  },
  {
   "cell_type": "code",
   "execution_count": 5,
   "metadata": {},
   "outputs": [],
   "source": [
    "df = get_nice_text()\n",
    "labels = get_labels(True)\n",
    "np.random.seed(123)"
   ]
  },
  {
   "cell_type": "code",
   "execution_count": 6,
   "metadata": {},
   "outputs": [],
   "source": [
    "cv = CountVectorizer(stop_words = 'english')\n",
    "df_count = cv.fit_transform(df)"
   ]
  },
  {
   "cell_type": "code",
   "execution_count": 54,
   "metadata": {},
   "outputs": [],
   "source": [
    "from sklearn.feature_selection import VarianceThreshold\n",
    "\n",
    "sel = VarianceThreshold(threshold=(.3 * (1 - .8)))"
   ]
  },
  {
   "cell_type": "code",
   "execution_count": 55,
   "metadata": {},
   "outputs": [
    {
     "name": "stdout",
     "output_type": "stream",
     "text": [
      "(590, 8067)\n",
      "(590, 494)\n"
     ]
    }
   ],
   "source": [
    "print(df_count.shape)\n",
    "\n",
    "df_high_var = sel.fit_transform(df_count)\n",
    "print(df_high_var.shape)"
   ]
  },
  {
   "cell_type": "code",
   "execution_count": 58,
   "metadata": {},
   "outputs": [
    {
     "data": {
      "text/plain": [
       "{'homogeneity_score': 0.481820054050061,\n",
       " 'completeness_score': 0.4714029951506243,\n",
       " 'v_measure_score': 0.4765546044932359}"
      ]
     },
     "execution_count": 58,
     "metadata": {},
     "output_type": "execute_result"
    }
   ],
   "source": [
    "lab, ret = train_fast(df_count, KMeans, labels=get_labels(merge_Bible=False), n_clusters=8, random_state = 12)\n",
    "ret"
   ]
  },
  {
   "cell_type": "code",
   "execution_count": 59,
   "metadata": {},
   "outputs": [
    {
     "data": {
      "text/plain": [
       "{'homogeneity_score': 0.4798126853100102,\n",
       " 'completeness_score': 0.4291710509743038,\n",
       " 'v_measure_score': 0.45308118551615384}"
      ]
     },
     "execution_count": 59,
     "metadata": {},
     "output_type": "execute_result"
    }
   ],
   "source": [
    "lab, ret = train_fast(df_high_var, KMeans, labels=get_labels(merge_Bible=False), n_clusters=8, random_state = 12)\n",
    "ret"
   ]
  },
  {
   "cell_type": "code",
   "execution_count": 42,
   "metadata": {},
   "outputs": [
    {
     "name": "stdout",
     "output_type": "stream",
     "text": [
      "{'homogeneity_score': -4.2374126293898904e-16, 'completeness_score': 1.0, 'v_measure_score': -8.474825258779785e-16}\n",
      "{'homogeneity_score': -4.2374126293898904e-16, 'completeness_score': 1.0, 'v_measure_score': -8.474825258779785e-16}\n",
      "{'homogeneity_score': -4.2374126293898904e-16, 'completeness_score': 1.0, 'v_measure_score': -8.474825258779785e-16}\n",
      "{'homogeneity_score': -4.2374126293898904e-16, 'completeness_score': 1.0, 'v_measure_score': -8.474825258779785e-16}\n",
      "{'homogeneity_score': -4.2374126293898904e-16, 'completeness_score': 1.0, 'v_measure_score': -8.474825258779785e-16}\n",
      "{'homogeneity_score': -4.2374126293898904e-16, 'completeness_score': 1.0, 'v_measure_score': -8.474825258779785e-16}\n",
      "{'homogeneity_score': 0.00591670181481978, 'completeness_score': 0.18240283455802805, 'v_measure_score': 0.01146161681410512}\n",
      "{'homogeneity_score': 0.00591670181481978, 'completeness_score': 0.18240283455802805, 'v_measure_score': 0.01146161681410512}\n",
      "{'homogeneity_score': 0.00591670181481978, 'completeness_score': 0.18240283455802805, 'v_measure_score': 0.01146161681410512}\n",
      "{'homogeneity_score': 0.019501426181407197, 'completeness_score': 0.20643255276796535, 'v_measure_score': 0.0356363324185603}\n",
      "{'homogeneity_score': 0.019501426181407197, 'completeness_score': 0.20643255276796535, 'v_measure_score': 0.0356363324185603}\n",
      "{'homogeneity_score': 0.019501426181407197, 'completeness_score': 0.20643255276796535, 'v_measure_score': 0.0356363324185603}\n",
      "{'homogeneity_score': 0.023085589238335025, 'completeness_score': 0.2184235244275976, 'v_measure_score': 0.0417577265585091}\n",
      "{'homogeneity_score': 0.026694758051517723, 'completeness_score': 0.2051728349574684, 'v_measure_score': 0.04724281747920963}\n",
      "{'homogeneity_score': 0.025627962822829413, 'completeness_score': 0.17905746515434104, 'v_measure_score': 0.04483834638816931}\n",
      "{'homogeneity_score': 0.026469226868014957, 'completeness_score': 0.15534509166303642, 'v_measure_score': 0.04523147029654038}\n",
      "{'homogeneity_score': 0.03371015225404041, 'completeness_score': 0.15804087541793374, 'v_measure_score': 0.05556770190368105}\n",
      "{'homogeneity_score': 0.03862349764575468, 'completeness_score': 0.16606197376316922, 'v_measure_score': 0.0626707328912208}\n",
      "{'homogeneity_score': 0.045182298359006764, 'completeness_score': 0.1772037708419629, 'v_measure_score': 0.07200517256579776}\n",
      "{'homogeneity_score': 0.047832949413933866, 'completeness_score': 0.16026147490674858, 'v_measure_score': 0.0736759675060168}\n",
      "{'homogeneity_score': 0.04873709799419531, 'completeness_score': 0.15344134466117226, 'v_measure_score': 0.07397708433099469}\n",
      "{'homogeneity_score': 0.053006738202068, 'completeness_score': 0.15463519923994754, 'v_measure_score': 0.07895040495107566}\n",
      "{'homogeneity_score': 0.06330109690835595, 'completeness_score': 0.1687542698639965, 'v_measure_score': 0.09206708329085203}\n",
      "{'homogeneity_score': 0.06809505604408225, 'completeness_score': 0.17263894494756207, 'v_measure_score': 0.09766679059185748}\n",
      "{'homogeneity_score': 0.07778299669833874, 'completeness_score': 0.18762724194378988, 'v_measure_score': 0.10997472603391624}\n",
      "{'homogeneity_score': 0.0885755296594996, 'completeness_score': 0.20373920142351076, 'v_measure_score': 0.12347176354493213}\n",
      "{'homogeneity_score': 0.09689757975917108, 'completeness_score': 0.21584987507202058, 'v_measure_score': 0.13375220269714086}\n",
      "{'homogeneity_score': 0.10960127401268747, 'completeness_score': 0.23945611424181815, 'v_measure_score': 0.1503746723269201}\n",
      "{'homogeneity_score': 0.11920806084571338, 'completeness_score': 0.2591026650018613, 'v_measure_score': 0.1632897200343884}\n",
      "{'homogeneity_score': 0.13253840748067006, 'completeness_score': 0.2896924170890609, 'v_measure_score': 0.1818691075401068}\n",
      "{'homogeneity_score': 0.14308879399790156, 'completeness_score': 0.3163283249660451, 'v_measure_score': 0.19704550247862995}\n",
      "{'homogeneity_score': 0.15789316268393272, 'completeness_score': 0.3541778427101687, 'v_measure_score': 0.2184160366394577}\n",
      "{'homogeneity_score': 0.1757978615687601, 'completeness_score': 0.40263835421163485, 'v_measure_score': 0.24473903854887033}\n",
      "{'homogeneity_score': 0.18429555600402475, 'completeness_score': 0.4320694685112835, 'v_measure_score': 0.25838092612171826}\n",
      "{'homogeneity_score': 0.19492832283595443, 'completeness_score': 0.4711906925739051, 'v_measure_score': 0.2757717744563388}\n",
      "{'homogeneity_score': 0.17809926932975928, 'completeness_score': 0.4491474033369699, 'v_measure_score': 0.25506017916551016}\n",
      "{'homogeneity_score': 0.18183234481187388, 'completeness_score': 0.4687183895634223, 'v_measure_score': 0.2620185001023922}\n",
      "{'homogeneity_score': 0.1880473230414075, 'completeness_score': 0.5097833256269313, 'v_measure_score': 0.2747468598526747}\n",
      "{'homogeneity_score': 0.19425494551592107, 'completeness_score': 0.5102539518421, 'v_measure_score': 0.2813856687575645}\n",
      "{'homogeneity_score': 0.1604068239567062, 'completeness_score': 0.49980003598449996, 'v_measure_score': 0.24286732310797457}\n",
      "{'homogeneity_score': 0.1577097406576471, 'completeness_score': 0.5130861940559794, 'v_measure_score': 0.24126172032969515}\n",
      "{'homogeneity_score': 0.14366870979592522, 'completeness_score': 0.5138232538187157, 'v_measure_score': 0.22455125849278218}\n",
      "{'homogeneity_score': 0.13394774398881049, 'completeness_score': 0.5166920075262235, 'v_measure_score': 0.2127436222088497}\n",
      "{'homogeneity_score': 0.1302852697917314, 'completeness_score': 0.5339459684358214, 'v_measure_score': 0.20946107484344653}\n",
      "{'homogeneity_score': 0.1228490397744936, 'completeness_score': 0.5281902277978915, 'v_measure_score': 0.19933563314912509}\n",
      "{'homogeneity_score': 0.10534249643396537, 'completeness_score': 0.48818755111131773, 'v_measure_score': 0.17329163224251654}\n",
      "{'homogeneity_score': 0.08647366342655478, 'completeness_score': 0.4427741295332752, 'v_measure_score': 0.144689506732255}\n",
      "{'homogeneity_score': 0.07524410404879996, 'completeness_score': 0.4140552397382554, 'v_measure_score': 0.12734623880621818}\n",
      "{'homogeneity_score': 0.06442359964521334, 'completeness_score': 0.3846517553317414, 'v_measure_score': 0.11036299549144635}\n",
      "{'homogeneity_score': 0.05196530991091835, 'completeness_score': 0.34779171412833687, 'v_measure_score': 0.09042044603250701}\n",
      "{'homogeneity_score': 0.05537228018847127, 'completeness_score': 0.4050805508495489, 'v_measure_score': 0.09742684700179163}\n",
      "{'homogeneity_score': 0.043505786959589475, 'completeness_score': 0.38533494560885745, 'v_measure_score': 0.07818427112246486}\n",
      "{'homogeneity_score': 0.029588100082297928, 'completeness_score': 0.34132877026847824, 'v_measure_score': 0.05445570489215295}\n",
      "{'homogeneity_score': 0.025732997834727968, 'completeness_score': 0.3272746099190452, 'v_measure_score': 0.04771430781334606}\n",
      "{'homogeneity_score': 0.021076024175921415, 'completeness_score': 0.34246820441235426, 'v_measure_score': 0.03970833581216672}\n",
      "{'homogeneity_score': 0.017165201422825675, 'completeness_score': 0.32757135759082623, 'v_measure_score': 0.032621015592212366}\n",
      "{'homogeneity_score': 0.01136611728989051, 'completeness_score': 0.3015798232994467, 'v_measure_score': 0.02190660557814412}\n",
      "{'homogeneity_score': 0.005645230643271004, 'completeness_score': 0.2663801154196987, 'v_measure_score': 0.011056154965627715}\n",
      "{'homogeneity_score': -4.2374126293898904e-16, 'completeness_score': 1.0, 'v_measure_score': -8.474825258779785e-16}\n",
      "{'homogeneity_score': -4.2374126293898904e-16, 'completeness_score': 1.0, 'v_measure_score': -8.474825258779785e-16}\n",
      "{'homogeneity_score': -4.2374126293898904e-16, 'completeness_score': 1.0, 'v_measure_score': -8.474825258779785e-16}\n",
      "{'homogeneity_score': -4.2374126293898904e-16, 'completeness_score': 1.0, 'v_measure_score': -8.474825258779785e-16}\n",
      "{'homogeneity_score': -4.2374126293898904e-16, 'completeness_score': 1.0, 'v_measure_score': -8.474825258779785e-16}\n",
      "{'homogeneity_score': -4.2374126293898904e-16, 'completeness_score': 1.0, 'v_measure_score': -8.474825258779785e-16}\n",
      "{'homogeneity_score': -4.2374126293898904e-16, 'completeness_score': 1.0, 'v_measure_score': -8.474825258779785e-16}\n",
      "{'homogeneity_score': -4.2374126293898904e-16, 'completeness_score': 1.0, 'v_measure_score': -8.474825258779785e-16}\n",
      "{'homogeneity_score': -4.2374126293898904e-16, 'completeness_score': 1.0, 'v_measure_score': -8.474825258779785e-16}\n"
     ]
    },
    {
     "name": "stdout",
     "output_type": "stream",
     "text": [
      "{'homogeneity_score': -4.2374126293898904e-16, 'completeness_score': 1.0, 'v_measure_score': -8.474825258779785e-16}\n",
      "{'homogeneity_score': -4.2374126293898904e-16, 'completeness_score': 1.0, 'v_measure_score': -8.474825258779785e-16}\n",
      "{'homogeneity_score': -4.2374126293898904e-16, 'completeness_score': 1.0, 'v_measure_score': -8.474825258779785e-16}\n",
      "{'homogeneity_score': -4.2374126293898904e-16, 'completeness_score': 1.0, 'v_measure_score': -8.474825258779785e-16}\n",
      "{'homogeneity_score': -4.2374126293898904e-16, 'completeness_score': 1.0, 'v_measure_score': -8.474825258779785e-16}\n",
      "{'homogeneity_score': -4.2374126293898904e-16, 'completeness_score': 1.0, 'v_measure_score': -8.474825258779785e-16}\n",
      "{'homogeneity_score': -4.2374126293898904e-16, 'completeness_score': 1.0, 'v_measure_score': -8.474825258779785e-16}\n",
      "{'homogeneity_score': -4.2374126293898904e-16, 'completeness_score': 1.0, 'v_measure_score': -8.474825258779785e-16}\n",
      "{'homogeneity_score': -4.2374126293898904e-16, 'completeness_score': 1.0, 'v_measure_score': -8.474825258779785e-16}\n",
      "{'homogeneity_score': -4.2374126293898904e-16, 'completeness_score': 1.0, 'v_measure_score': -8.474825258779785e-16}\n",
      "{'homogeneity_score': -4.2374126293898904e-16, 'completeness_score': 1.0, 'v_measure_score': -8.474825258779785e-16}\n",
      "{'homogeneity_score': -4.2374126293898904e-16, 'completeness_score': 1.0, 'v_measure_score': -8.474825258779785e-16}\n",
      "{'homogeneity_score': -4.2374126293898904e-16, 'completeness_score': 1.0, 'v_measure_score': -8.474825258779785e-16}\n",
      "{'homogeneity_score': -4.2374126293898904e-16, 'completeness_score': 1.0, 'v_measure_score': -8.474825258779785e-16}\n",
      "{'homogeneity_score': -4.2374126293898904e-16, 'completeness_score': 1.0, 'v_measure_score': -8.474825258779785e-16}\n",
      "{'homogeneity_score': -4.2374126293898904e-16, 'completeness_score': 1.0, 'v_measure_score': -8.474825258779785e-16}\n",
      "{'homogeneity_score': -4.2374126293898904e-16, 'completeness_score': 1.0, 'v_measure_score': -8.474825258779785e-16}\n",
      "{'homogeneity_score': -4.2374126293898904e-16, 'completeness_score': 1.0, 'v_measure_score': -8.474825258779785e-16}\n",
      "{'homogeneity_score': -4.2374126293898904e-16, 'completeness_score': 1.0, 'v_measure_score': -8.474825258779785e-16}\n",
      "{'homogeneity_score': -4.2374126293898904e-16, 'completeness_score': 1.0, 'v_measure_score': -8.474825258779785e-16}\n",
      "{'homogeneity_score': -4.2374126293898904e-16, 'completeness_score': 1.0, 'v_measure_score': -8.474825258779785e-16}\n",
      "{'homogeneity_score': -4.2374126293898904e-16, 'completeness_score': 1.0, 'v_measure_score': -8.474825258779785e-16}\n",
      "{'homogeneity_score': -4.2374126293898904e-16, 'completeness_score': 1.0, 'v_measure_score': -8.474825258779785e-16}\n",
      "{'homogeneity_score': -4.2374126293898904e-16, 'completeness_score': 1.0, 'v_measure_score': -8.474825258779785e-16}\n",
      "{'homogeneity_score': -4.2374126293898904e-16, 'completeness_score': 1.0, 'v_measure_score': -8.474825258779785e-16}\n",
      "{'homogeneity_score': -4.2374126293898904e-16, 'completeness_score': 1.0, 'v_measure_score': -8.474825258779785e-16}\n",
      "{'homogeneity_score': -4.2374126293898904e-16, 'completeness_score': 1.0, 'v_measure_score': -8.474825258779785e-16}\n",
      "{'homogeneity_score': -4.2374126293898904e-16, 'completeness_score': 1.0, 'v_measure_score': -8.474825258779785e-16}\n",
      "{'homogeneity_score': -4.2374126293898904e-16, 'completeness_score': 1.0, 'v_measure_score': -8.474825258779785e-16}\n",
      "{'homogeneity_score': -4.2374126293898904e-16, 'completeness_score': 1.0, 'v_measure_score': -8.474825258779785e-16}\n",
      "{'homogeneity_score': -4.2374126293898904e-16, 'completeness_score': 1.0, 'v_measure_score': -8.474825258779785e-16}\n",
      "{'homogeneity_score': -4.2374126293898904e-16, 'completeness_score': 1.0, 'v_measure_score': -8.474825258779785e-16}\n"
     ]
    }
   ],
   "source": [
    "for i in range(1,100):\n",
    "    lab, scores = train_fast(df_high_var, DBSCAN, get_labels(True), eps = i/10, metric = 'manhattan')\n",
    "    print(scores)"
   ]
  }
 ],
 "metadata": {
  "kernelspec": {
   "display_name": "Python 3.7.1 64-bit ('3.7.1': pyenv)",
   "language": "python",
   "name": "python37164bit371pyenv8b58cff780124c0e86c6832805abcd0c"
  },
  "language_info": {
   "codemirror_mode": {
    "name": "ipython",
    "version": 3
   },
   "file_extension": ".py",
   "mimetype": "text/x-python",
   "name": "python",
   "nbconvert_exporter": "python",
   "pygments_lexer": "ipython3",
   "version": "3.7.1"
  }
 },
 "nbformat": 4,
 "nbformat_minor": 4
}
