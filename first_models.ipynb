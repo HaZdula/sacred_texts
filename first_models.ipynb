{
 "cells": [
  {
   "cell_type": "code",
   "execution_count": 1,
   "metadata": {},
   "outputs": [],
   "source": [
    "from sklearn.feature_extraction.text import TfidfTransformer, TfidfVectorizer, CountVectorizer\n",
    "from sklearn.metrics import accuracy_score\n",
    "from get_nice_text import *\n",
    "import pandas as pd\n",
    "import re\n",
    "import numpy as np"
   ]
  },
  {
   "cell_type": "code",
   "execution_count": 2,
   "metadata": {},
   "outputs": [],
   "source": [
    "df = get_nice_text()"
   ]
  },
  {
   "cell_type": "code",
   "execution_count": 3,
   "metadata": {},
   "outputs": [],
   "source": [
    "cv = CountVectorizer()"
   ]
  },
  {
   "cell_type": "code",
   "execution_count": 4,
   "metadata": {},
   "outputs": [],
   "source": [
    "df_count = cv.fit_transform(df)"
   ]
  },
  {
   "cell_type": "code",
   "execution_count": 5,
   "metadata": {},
   "outputs": [],
   "source": [
    "trans = TfidfTransformer()"
   ]
  },
  {
   "cell_type": "code",
   "execution_count": 6,
   "metadata": {},
   "outputs": [],
   "source": [
    "x = trans.fit_transform(df_count)"
   ]
  },
  {
   "cell_type": "code",
   "execution_count": 21,
   "metadata": {},
   "outputs": [],
   "source": [
    "from sklearn.cluster import KMeans\n",
    "model = KMeans()\n",
    "lab_0 = model.fit_predict(x)"
   ]
  },
  {
   "cell_type": "code",
   "execution_count": 8,
   "metadata": {},
   "outputs": [],
   "source": [
    "df_lab = pd.read_csv('./AllBooks_baseline_DTM_Labelled.csv')\n",
    "names = list(df_lab.iloc[:,0])"
   ]
  },
  {
   "cell_type": "markdown",
   "metadata": {},
   "source": [
    "All in one czy Vectorizer"
   ]
  },
  {
   "cell_type": "code",
   "execution_count": 30,
   "metadata": {},
   "outputs": [],
   "source": [
    "vek = TfidfVectorizer(stop_words=\"english\")\n",
    "x = vek.fit_transform(df)"
   ]
  },
  {
   "cell_type": "code",
   "execution_count": 31,
   "metadata": {},
   "outputs": [
    {
     "data": {
      "text/plain": [
       "<590x8067 sparse matrix of type '<class 'numpy.float64'>'\n",
       "\twith 37960 stored elements in Compressed Sparse Row format>"
      ]
     },
     "execution_count": 31,
     "metadata": {},
     "output_type": "execute_result"
    }
   ],
   "source": [
    "x"
   ]
  },
  {
   "cell_type": "markdown",
   "metadata": {},
   "source": [
    "wyciagnie labelsow poprawnych"
   ]
  },
  {
   "cell_type": "code",
   "execution_count": 13,
   "metadata": {},
   "outputs": [],
   "source": [
    "labels = [re.match(\"^[a-zA-Z]+\", n).group(0) for n in names]"
   ]
  },
  {
   "cell_type": "code",
   "execution_count": 14,
   "metadata": {
    "scrolled": true
   },
   "outputs": [
    {
     "data": {
      "text/plain": [
       "array([7, 7, 7, 7, 7, 7, 7, 7, 7, 7, 7, 7, 7, 7, 7, 3, 7, 7, 7, 7, 7, 7,\n",
       "       7, 7, 7, 7, 7, 7, 7, 7, 7, 7, 7, 7, 4, 1, 7, 7, 7, 7, 7, 7, 7, 7,\n",
       "       7, 7, 1, 6, 1, 3, 1, 1, 1, 6, 1, 1, 4, 6, 1, 1, 1, 1, 1, 5, 3, 1,\n",
       "       1, 4, 1, 1, 1, 1, 1, 4, 1, 1, 6, 1, 1, 1, 1, 1, 1, 1, 1, 1, 1, 1,\n",
       "       7, 1, 1, 1, 1, 1, 1, 1, 1, 1, 1, 1, 1, 1, 6, 1, 6, 1, 1, 1, 1, 1,\n",
       "       1, 1, 1, 1, 1, 1, 1, 1, 1, 1, 6, 1, 1, 1, 6, 1, 1, 6, 4, 4, 4, 4,\n",
       "       4, 4, 4, 5, 7, 4, 5, 6, 4, 7, 4, 6, 4, 7, 4, 1, 1, 1, 7, 4, 7, 5,\n",
       "       5, 1, 1, 1, 4, 5, 4, 4, 4, 5, 5, 5, 7, 5, 1, 4, 5, 4, 4, 4, 7, 4,\n",
       "       7, 6, 4, 7, 4, 4, 4, 4, 4, 7, 6, 5, 4, 7, 7, 4, 4, 4, 4, 4, 4, 4,\n",
       "       4, 4, 4, 4, 1, 7, 4, 4, 4, 3, 4, 4, 4, 4, 4, 6, 5, 4, 4, 4, 4, 4,\n",
       "       5, 4, 4, 6, 4, 7, 4, 4, 4, 4, 7, 4, 6, 5, 4, 4, 4, 4, 4, 1, 4, 7,\n",
       "       4, 4, 6, 4, 4, 4, 4, 4, 4, 4, 4, 5, 4, 6, 4, 4, 4, 1, 5, 5, 5, 5,\n",
       "       4, 1, 4, 4, 4, 5, 5, 5, 5, 5, 5, 5, 5, 5, 5, 5, 5, 5, 5, 4, 4, 5,\n",
       "       4, 4, 6, 6, 6, 6, 6, 3, 6, 6, 6, 6, 6, 6, 6, 3, 6, 6, 6, 6, 6, 7,\n",
       "       6, 6, 3, 6, 6, 6, 6, 6, 6, 6, 6, 6, 6, 6, 6, 6, 3, 6, 3, 1, 6, 6,\n",
       "       6, 6, 3, 6, 6, 6, 4, 6, 6, 6, 6, 6, 6, 6, 6, 6, 6, 6, 6, 6, 6, 6,\n",
       "       4, 6, 6, 6, 6, 6, 6, 6, 6, 6, 6, 6, 6, 6, 6, 6, 6, 6, 6, 6, 6, 1,\n",
       "       6, 6, 6, 6, 4, 4, 6, 6, 6, 6, 6, 6, 6, 6, 6, 3, 3, 6, 3, 3, 6, 6,\n",
       "       6, 6, 6, 6, 6, 6, 6, 6, 6, 6, 6, 6, 6, 6, 6, 6, 6, 6, 6, 6, 6, 6,\n",
       "       6, 6, 6, 6, 6, 6, 6, 6, 6, 6, 6, 6, 6, 6, 6, 4, 6, 6, 4, 6, 6, 6,\n",
       "       6, 6, 6, 6, 6, 6, 6, 6, 6, 6, 4, 6, 6, 6, 6, 6, 6, 6, 6, 6, 6, 6,\n",
       "       6, 6, 6, 4, 6, 6, 6, 6, 6, 6, 6, 4, 6, 6, 6, 6, 0, 0, 0, 0, 0, 0,\n",
       "       0, 2, 0, 2, 2, 2, 2, 2, 2, 2, 2, 2, 2, 2, 2, 2, 0, 0, 2, 2, 2, 2,\n",
       "       2, 2, 0, 2, 2, 2, 2, 2, 2, 2, 2, 2, 2, 0, 2, 0, 2, 2, 0, 0, 0, 0,\n",
       "       0, 0, 2, 2, 0, 0, 0, 0, 2, 2, 2, 2, 2, 2, 2, 0, 0, 0, 0, 2, 2, 2,\n",
       "       2, 0, 0, 0, 2, 2, 0, 2, 2, 2, 2, 2, 2, 2, 2, 2, 2, 2, 2, 2, 0, 2,\n",
       "       2, 2, 2, 2, 0, 0, 0, 0, 2, 2, 0, 2, 2, 2, 2, 2, 2, 2], dtype=int32)"
      ]
     },
     "execution_count": 14,
     "metadata": {},
     "output_type": "execute_result"
    }
   ],
   "source": [
    "lab"
   ]
  },
  {
   "cell_type": "code",
   "execution_count": 15,
   "metadata": {},
   "outputs": [],
   "source": [
    "model = KMeans(n_clusters=8)\n",
    "lab = model.fit_predict(x)"
   ]
  },
  {
   "cell_type": "code",
   "execution_count": 16,
   "metadata": {
    "scrolled": true
   },
   "outputs": [
    {
     "data": {
      "text/plain": [
       "array([2, 0, 0, 0, 0, 0, 0, 0, 0, 0, 0, 0, 0, 4, 0, 0, 0, 0, 0, 0, 0, 0,\n",
       "       0, 0, 0, 0, 0, 0, 0, 0, 0, 0, 0, 0, 2, 4, 0, 0, 0, 0, 0, 0, 0, 0,\n",
       "       0, 2, 4, 4, 4, 4, 4, 4, 4, 4, 4, 4, 4, 4, 4, 4, 4, 4, 4, 4, 4, 4,\n",
       "       4, 6, 4, 4, 4, 4, 4, 4, 4, 4, 4, 4, 4, 4, 4, 4, 4, 4, 4, 4, 4, 4,\n",
       "       4, 4, 4, 4, 4, 4, 4, 4, 4, 4, 4, 4, 4, 4, 4, 4, 4, 4, 4, 4, 4, 4,\n",
       "       4, 4, 4, 4, 4, 4, 4, 4, 4, 4, 4, 4, 4, 4, 4, 4, 4, 4, 2, 6, 6, 2,\n",
       "       6, 6, 6, 0, 6, 6, 0, 6, 6, 4, 6, 2, 6, 4, 6, 6, 6, 6, 6, 4, 6, 4,\n",
       "       6, 4, 4, 6, 6, 6, 7, 6, 6, 6, 6, 6, 4, 6, 6, 6, 4, 6, 6, 6, 6, 6,\n",
       "       4, 4, 6, 6, 6, 6, 6, 6, 6, 2, 7, 7, 7, 0, 4, 6, 4, 6, 6, 6, 6, 7,\n",
       "       6, 6, 6, 6, 4, 0, 6, 6, 6, 6, 6, 6, 6, 7, 6, 4, 6, 6, 6, 0, 0, 0,\n",
       "       4, 6, 6, 6, 6, 6, 6, 0, 6, 6, 0, 6, 2, 7, 6, 6, 6, 6, 6, 4, 7, 2,\n",
       "       7, 6, 2, 6, 6, 6, 6, 6, 6, 6, 6, 7, 6, 6, 6, 6, 6, 6, 7, 7, 7, 7,\n",
       "       6, 2, 7, 6, 7, 7, 7, 7, 7, 7, 7, 7, 7, 7, 7, 7, 7, 7, 7, 7, 7, 6,\n",
       "       6, 7, 3, 3, 3, 3, 2, 3, 2, 2, 2, 3, 2, 3, 2, 2, 2, 3, 2, 0, 0, 0,\n",
       "       2, 2, 2, 2, 3, 4, 3, 2, 3, 3, 2, 3, 3, 2, 4, 2, 2, 2, 4, 4, 2, 2,\n",
       "       3, 3, 2, 3, 3, 4, 3, 3, 3, 3, 3, 2, 3, 3, 2, 2, 3, 2, 2, 2, 2, 2,\n",
       "       2, 6, 3, 2, 0, 3, 2, 2, 2, 2, 3, 2, 2, 2, 2, 2, 2, 2, 2, 6, 2, 6,\n",
       "       2, 3, 2, 2, 2, 6, 2, 3, 2, 3, 3, 2, 3, 0, 3, 2, 3, 3, 3, 3, 0, 3,\n",
       "       3, 2, 3, 3, 3, 3, 3, 2, 4, 4, 3, 3, 3, 2, 2, 3, 2, 4, 4, 3, 3, 2,\n",
       "       4, 3, 3, 3, 3, 3, 3, 3, 3, 3, 3, 3, 3, 3, 3, 3, 3, 3, 4, 3, 3, 3,\n",
       "       2, 2, 2, 4, 3, 3, 2, 0, 3, 3, 2, 2, 2, 2, 2, 2, 2, 2, 2, 2, 2, 3,\n",
       "       2, 3, 3, 2, 3, 2, 2, 2, 2, 2, 3, 2, 1, 3, 2, 3, 5, 1, 1, 1, 1, 1,\n",
       "       1, 5, 1, 5, 5, 5, 5, 5, 5, 5, 5, 5, 5, 5, 5, 5, 1, 5, 1, 5, 1, 5,\n",
       "       5, 4, 5, 4, 5, 4, 5, 1, 5, 5, 5, 1, 5, 1, 5, 5, 5, 5, 1, 1, 1, 1,\n",
       "       1, 1, 5, 1, 1, 1, 5, 5, 5, 5, 1, 5, 5, 5, 5, 5, 5, 1, 5, 5, 1, 1,\n",
       "       1, 1, 1, 1, 5, 5, 1, 1, 5, 5, 5, 5, 1, 5, 4, 4, 4, 1, 4, 4, 1, 5,\n",
       "       5, 5, 5, 5, 5, 4, 5, 1, 4, 1, 1, 4, 4, 4, 1, 4, 1, 4], dtype=int32)"
      ]
     },
     "execution_count": 16,
     "metadata": {},
     "output_type": "execute_result"
    }
   ],
   "source": [
    "lab"
   ]
  },
  {
   "cell_type": "code",
   "execution_count": 25,
   "metadata": {
    "scrolled": true
   },
   "outputs": [
    {
     "name": "stdout",
     "output_type": "stream",
     "text": [
      "homogeneity_score = 0.6208471880011318\n",
      "completeness_score = 0.5427691357174474\n",
      "v_measure_score = 0.579188663436935\n"
     ]
    }
   ],
   "source": [
    "from sklearn.metrics.cluster import homogeneity_score, completeness_score, v_measure_score\n",
    "print(\"homogeneity_score = {}\".format(homogeneity_score(labels, lab)))\n",
    "print(\"completeness_score = {}\".format(completeness_score(labels, lab)))\n",
    "print(\"v_measure_score = {}\".format(v_measure_score(labels, lab)))"
   ]
  },
  {
   "cell_type": "code",
   "execution_count": 32,
   "metadata": {},
   "outputs": [
    {
     "name": "stdout",
     "output_type": "stream",
     "text": [
      "homogeneity_score = 0.44995984036384673\n",
      "completeness_score = 0.508016242912445\n",
      "v_measure_score = 0.4772288401634297\n"
     ]
    }
   ],
   "source": [
    "# zobaczmy czy bez stpo words\n",
    "vek = TfidfVectorizer()\n",
    "x = vek.fit_transform(df)\n",
    "model = KMeans(n_clusters=8)\n",
    "lab = model.fit_predict(x)\n",
    "print(\"homogeneity_score = {}\".format(homogeneity_score(labels, lab)))\n",
    "print(\"completeness_score = {}\".format(completeness_score(labels, lab)))\n",
    "print(\"v_measure_score = {}\".format(v_measure_score(labels, lab)))"
   ]
  },
  {
   "cell_type": "markdown",
   "metadata": {},
   "source": [
    "Inny model"
   ]
  },
  {
   "cell_type": "code",
   "execution_count": 101,
   "metadata": {},
   "outputs": [],
   "source": [
    "xx = x.todense() != 0"
   ]
  },
  {
   "cell_type": "code",
   "execution_count": 115,
   "metadata": {
    "scrolled": true
   },
   "outputs": [],
   "source": [
    "xx = xx.reshape(1,4923550)"
   ]
  },
  {
   "cell_type": "code",
   "execution_count": 122,
   "metadata": {},
   "outputs": [
    {
     "data": {
      "text/plain": [
       "matrix([[0.02191023, 0.24199403, 0.39972823, ..., 0.027298  , 0.03386059,\n",
       "         0.06222781]])"
      ]
     },
     "execution_count": 122,
     "metadata": {},
     "output_type": "execute_result"
    }
   ],
   "source": [
    "x.todense().reshape(1,4923550)[xx]"
   ]
  },
  {
   "cell_type": "code",
   "execution_count": null,
   "metadata": {},
   "outputs": [],
   "source": []
  },
  {
   "cell_type": "code",
   "execution_count": null,
   "metadata": {},
   "outputs": [],
   "source": []
  }
 ],
 "metadata": {
  "kernelspec": {
   "display_name": "Python 3.7.1 64-bit ('3.7.1': pyenv)",
   "language": "python",
   "name": "python37164bit371pyenv8b58cff780124c0e86c6832805abcd0c"
  },
  "language_info": {
   "codemirror_mode": {
    "name": "ipython",
    "version": 3
   },
   "file_extension": ".py",
   "mimetype": "text/x-python",
   "name": "python",
   "nbconvert_exporter": "python",
   "pygments_lexer": "ipython3",
   "version": "3.7.1"
  }
 },
 "nbformat": 4,
 "nbformat_minor": 4
}
