{
 "cells": [
  {
   "cell_type": "code",
   "execution_count": 5,
   "metadata": {},
   "outputs": [],
   "source": [
    "from sklearn.feature_extraction.text import TfidfTransformer, TfidfVectorizer, CountVectorizer\n",
    "from sklearn.metrics.cluster import homogeneity_score, completeness_score, v_measure_score\n",
    "from get_nice_text import *\n",
    "\n",
    "import pandas as pd\n",
    "import re\n",
    "import numpy as np\n",
    "\n",
    "from sklearn.cluster import KMeans\n",
    "from sklearn.cluster import AgglomerativeClustering, DBSCAN, MiniBatchKMeans, MeanShift, SpectralClustering"
   ]
  },
  {
   "cell_type": "code",
   "execution_count": 6,
   "metadata": {},
   "outputs": [],
   "source": [
    "def train_fast(df, Model, labels, **kwargs):\n",
    "    \"\"\"\n",
    "    Trenuje Model na sparse matrix df\n",
    "    @example\n",
    "    train fast(df, KMeans, n_clusters=8)\n",
    "    \"\"\"\n",
    "    trans = TfidfTransformer()\n",
    "    df_trans = trans.fit_transform(df)\n",
    "    model = Model(**kwargs)\n",
    "    lab = model.fit_predict(df_trans)\n",
    "    \n",
    "    ret = {}\n",
    "    \n",
    "    ret[\"homogeneity_score\"] = homogeneity_score(labels, lab)\n",
    "    ret[\"completeness_score\"] = completeness_score(labels, lab)\n",
    "    ret[\"v_measure_score\"] = v_measure_score(labels, lab)\n",
    "    \n",
    "    return lab, ret"
   ]
  },
  {
   "cell_type": "code",
   "execution_count": 7,
   "metadata": {},
   "outputs": [],
   "source": [
    "df = get_nice_text()\n",
    "labels = get_labels(True)\n",
    "np.random.seed(123)"
   ]
  },
  {
   "cell_type": "markdown",
   "metadata": {},
   "source": [
    "Naiwne podejście - sam wordbag dajmy do pogrupowania, Biblię mergujemy"
   ]
  },
  {
   "cell_type": "code",
   "execution_count": 37,
   "metadata": {},
   "outputs": [
    {
     "data": {
      "text/plain": [
       "{'homogeneity_score': 0.3320610459866629,\n",
       " 'completeness_score': 0.4986041642194423,\n",
       " 'v_measure_score': 0.39863718443904317}"
      ]
     },
     "execution_count": 37,
     "metadata": {},
     "output_type": "execute_result"
    }
   ],
   "source": [
    "cv = CountVectorizer()\n",
    "df_count = cv.fit_transform(df)\n",
    "\n",
    "model = KMeans(n_clusters=5, random_state=123)\n",
    "\n",
    "lab = model.fit_predict(df_count)\n",
    "ret = {}\n",
    "    \n",
    "ret[\"homogeneity_score\"] = homogeneity_score(labels, lab)\n",
    "ret[\"completeness_score\"] = completeness_score(labels, lab)\n",
    "ret[\"v_measure_score\"] = v_measure_score(labels, lab)\n",
    "ret"
   ]
  },
  {
   "cell_type": "markdown",
   "metadata": {},
   "source": [
    "Bardzo słabo. Dodajmy TfidfTransformer."
   ]
  },
  {
   "cell_type": "code",
   "execution_count": 38,
   "metadata": {},
   "outputs": [
    {
     "data": {
      "text/plain": [
       "{'homogeneity_score': 0.5504130721916395,\n",
       " 'completeness_score': 0.5575716186373115,\n",
       " 'v_measure_score': 0.5539692201909778}"
      ]
     },
     "execution_count": 38,
     "metadata": {},
     "output_type": "execute_result"
    }
   ],
   "source": [
    "cv = CountVectorizer()\n",
    "df_count = cv.fit_transform(df)\n",
    "\n",
    "lab, scores = train_fast(df_count, KMeans, get_labels(True), n_clusters=5, random_state = 123)\n",
    "scores"
   ]
  },
  {
   "cell_type": "markdown",
   "metadata": {},
   "source": [
    "Lepiej, przekroczyliśmy losowość 0.5. Weżmy pod uwagę stopwords"
   ]
  },
  {
   "cell_type": "code",
   "execution_count": 41,
   "metadata": {},
   "outputs": [
    {
     "data": {
      "text/plain": [
       "{'homogeneity_score': 0.5499682967296581,\n",
       " 'completeness_score': 0.6450909053251002,\n",
       " 'v_measure_score': 0.5937438845329811}"
      ]
     },
     "execution_count": 41,
     "metadata": {},
     "output_type": "execute_result"
    }
   ],
   "source": [
    "cv = CountVectorizer(stop_words = 'english')\n",
    "df_count = cv.fit_transform(df)\n",
    "\n",
    "lab, scores = train_fast(df_count, KMeans, get_labels(True), n_clusters=5, random_state = 123)\n",
    "scores"
   ]
  },
  {
   "cell_type": "markdown",
   "metadata": {},
   "source": [
    "Zobaczmy jeszcze czy mergowanie Bibli coś daje"
   ]
  },
  {
   "cell_type": "code",
   "execution_count": 28,
   "metadata": {},
   "outputs": [
    {
     "data": {
      "text/plain": [
       "{'homogeneity_score': 0.5073841435249417,\n",
       " 'completeness_score': 0.4465988909388149,\n",
       " 'v_measure_score': 0.475054980208431}"
      ]
     },
     "execution_count": 28,
     "metadata": {},
     "output_type": "execute_result"
    }
   ],
   "source": [
    "cv = CountVectorizer(stop_words = 'english')\n",
    "df_count = cv.fit_transform(df)\n",
    "\n",
    "lab, scores = train_fast(df_count, KMeans, get_labels(False), n_clusters=8, random_state = 123)\n",
    "scores"
   ]
  },
  {
   "cell_type": "markdown",
   "metadata": {},
   "source": [
    "Jak widać tak"
   ]
  },
  {
   "cell_type": "markdown",
   "metadata": {},
   "source": [
    "# Entities"
   ]
  },
  {
   "cell_type": "code",
   "execution_count": 71,
   "metadata": {},
   "outputs": [],
   "source": [
    "def get_entities(data):\n",
    "\n",
    "    entities_list = []\n",
    "    \n",
    "    for i in range(len(data)):\n",
    "        \n",
    "        chapter = str(data[i])\n",
    "        doc = nlp(chapter) \n",
    "\n",
    "        for ent in doc.ents: \n",
    "            entities_list.append(ent.text)\n",
    "    \n",
    "    return entities_list"
   ]
  },
  {
   "cell_type": "code",
   "execution_count": 87,
   "metadata": {},
   "outputs": [],
   "source": [
    "import spacy \n",
    "nlp = spacy.load('en_core_web_sm') \n",
    "ent = get_entities(df)"
   ]
  },
  {
   "cell_type": "code",
   "execution_count": 96,
   "metadata": {},
   "outputs": [],
   "source": [
    "from collections import defaultdict \n",
    "  \n",
    "LABELS_DICT = defaultdict(set) \n",
    "\n",
    "for word in df:\n",
    "    doc = nlp(str(word))\n",
    "\n",
    "    for e in doc.ents:\n",
    "        LABELS_DICT[e.label_].add(e.text)"
   ]
  },
  {
   "cell_type": "code",
   "execution_count": 110,
   "metadata": {},
   "outputs": [],
   "source": [
    "LABELS_DICT.keys()\n",
    "all_nlp = []\n",
    "for key in LABELS_DICT.keys():\n",
    "    all_nlp += list(LABELS_DICT[key])\n",
    "    \n",
    "#remove duplicates\n",
    "all_nlp = list(set(all_nlp))"
   ]
  },
  {
   "cell_type": "code",
   "execution_count": 111,
   "metadata": {},
   "outputs": [
    {
     "data": {
      "text/plain": [
       "{'homogeneity_score': 0.11897558584368266,\n",
       " 'completeness_score': 0.22483275054993732,\n",
       " 'v_measure_score': 0.15560767661491615}"
      ]
     },
     "execution_count": 111,
     "metadata": {},
     "output_type": "execute_result"
    }
   ],
   "source": [
    "cv = CountVectorizer(vocabulary=all_nlp)\n",
    "df_count = cv.fit_transform(df)\n",
    "\n",
    "model = KMeans(n_clusters=5, random_state=123)\n",
    "\n",
    "lab = model.fit_predict(df_count)\n",
    "ret = {}\n",
    "    \n",
    "ret[\"homogeneity_score\"] = homogeneity_score(labels, lab)\n",
    "ret[\"completeness_score\"] = completeness_score(labels, lab)\n",
    "ret[\"v_measure_score\"] = v_measure_score(labels, lab)\n",
    "ret"
   ]
  },
  {
   "cell_type": "markdown",
   "metadata": {},
   "source": [
    "Słabo, dodajmy stop_words"
   ]
  },
  {
   "cell_type": "code",
   "execution_count": 112,
   "metadata": {},
   "outputs": [
    {
     "data": {
      "text/plain": [
       "{'homogeneity_score': 0.14612903898906285,\n",
       " 'completeness_score': 0.39871032617470714,\n",
       " 'v_measure_score': 0.21387278718898287}"
      ]
     },
     "execution_count": 112,
     "metadata": {},
     "output_type": "execute_result"
    }
   ],
   "source": [
    "cv = CountVectorizer(vocabulary=all_nlp, stop_words='english')\n",
    "df_count = cv.fit_transform(df)\n",
    "\n",
    "model = KMeans(n_clusters=5, random_state=123)\n",
    "\n",
    "lab = model.fit_predict(df_count)\n",
    "ret = {}\n",
    "    \n",
    "ret[\"homogeneity_score\"] = homogeneity_score(labels, lab)\n",
    "ret[\"completeness_score\"] = completeness_score(labels, lab)\n",
    "ret[\"v_measure_score\"] = v_measure_score(labels, lab)\n",
    "ret"
   ]
  },
  {
   "cell_type": "code",
   "execution_count": 47,
   "metadata": {
    "scrolled": true
   },
   "outputs": [],
   "source": [
    "#pd.Series(labels).astype('category').cat.codes.values"
   ]
  },
  {
   "cell_type": "markdown",
   "metadata": {},
   "source": [
    "## Inne modele\n",
    "linkage{“ward”, “complete”, “average”, “single”}, default=”ward”"
   ]
  },
  {
   "cell_type": "code",
   "execution_count": 17,
   "metadata": {},
   "outputs": [],
   "source": [
    "def train_fast(df, Model, labels, **kwargs):\n",
    "    \"\"\"\n",
    "    Trenuje Model na sparse matrix df\n",
    "    @example\n",
    "    train fast(df, KMeans, n_clusters=8)\n",
    "    \"\"\"\n",
    "    trans = TfidfTransformer()\n",
    "    df_trans = trans.fit_transform(df)\n",
    "    model = Model(**kwargs)\n",
    "    lab = model.fit_predict(df_trans.toarray())\n",
    "    \n",
    "    ret = {}\n",
    "    \n",
    "    ret[\"homogeneity_score\"] = homogeneity_score(labels, lab)\n",
    "    ret[\"completeness_score\"] = completeness_score(labels, lab)\n",
    "    ret[\"v_measure_score\"] = v_measure_score(labels, lab)\n",
    "    \n",
    "    return lab, ret"
   ]
  },
  {
   "cell_type": "code",
   "execution_count": 19,
   "metadata": {},
   "outputs": [
    {
     "data": {
      "text/plain": [
       "{'homogeneity_score': 0.572923993295591,\n",
       " 'completeness_score': 0.6047451991605944,\n",
       " 'v_measure_score': 0.5884046838430234}"
      ]
     },
     "execution_count": 19,
     "metadata": {},
     "output_type": "execute_result"
    }
   ],
   "source": [
    "cv = CountVectorizer(stop_words = 'english')\n",
    "df_count = cv.fit_transform(df)\n",
    "\n",
    "lab, scores = train_fast(df_count, AgglomerativeClustering, get_labels(True), n_clusters=5)\n",
    "scores"
   ]
  },
  {
   "cell_type": "code",
   "execution_count": 20,
   "metadata": {
    "scrolled": true
   },
   "outputs": [
    {
     "data": {
      "text/plain": [
       "{'homogeneity_score': 0.3970246607100051,\n",
       " 'completeness_score': 0.4687726141023961,\n",
       " 'v_measure_score': 0.42992578858479946}"
      ]
     },
     "execution_count": 20,
     "metadata": {},
     "output_type": "execute_result"
    }
   ],
   "source": [
    "lab, scores = train_fast(df_count, AgglomerativeClustering, get_labels(True), n_clusters=5, linkage =  \"complete\")\n",
    "scores"
   ]
  },
  {
   "cell_type": "code",
   "execution_count": 30,
   "metadata": {},
   "outputs": [
    {
     "data": {
      "text/plain": [
       "{'homogeneity_score': 0.20293471924776588,\n",
       " 'completeness_score': 0.6412603791279626,\n",
       " 'v_measure_score': 0.3083031286332579}"
      ]
     },
     "execution_count": 30,
     "metadata": {},
     "output_type": "execute_result"
    }
   ],
   "source": [
    "lab, scores = train_fast(df_count, AgglomerativeClustering, get_labels(True), n_clusters=5, linkage =  \"average\")\n",
    "scores"
   ]
  },
  {
   "cell_type": "code",
   "execution_count": 32,
   "metadata": {},
   "outputs": [
    {
     "data": {
      "text/plain": [
       "{'homogeneity_score': 0.007543664124885699,\n",
       " 'completeness_score': 0.22724173007689247,\n",
       " 'v_measure_score': 0.014602571788471418}"
      ]
     },
     "execution_count": 32,
     "metadata": {},
     "output_type": "execute_result"
    }
   ],
   "source": [
    "lab, scores = train_fast(df_count, AgglomerativeClustering, get_labels(True), n_clusters=5, linkage =  \"single\")\n",
    "scores"
   ]
  },
  {
   "cell_type": "markdown",
   "metadata": {},
   "source": [
    "Normalnie coraz gorzej, jeez"
   ]
  },
  {
   "cell_type": "code",
   "execution_count": 26,
   "metadata": {
    "scrolled": true
   },
   "outputs": [
    {
     "data": {
      "text/plain": [
       "{'homogeneity_score': -4.2374126293898904e-16,\n",
       " 'completeness_score': 1.0,\n",
       " 'v_measure_score': -8.474825258779785e-16}"
      ]
     },
     "execution_count": 26,
     "metadata": {},
     "output_type": "execute_result"
    }
   ],
   "source": [
    "lab, scores = train_fast(df_count, DBSCAN, get_labels(True))\n",
    "scores"
   ]
  },
  {
   "cell_type": "code",
   "execution_count": 27,
   "metadata": {
    "scrolled": true
   },
   "outputs": [
    {
     "data": {
      "text/plain": [
       "array([-1, -1, -1, -1, -1, -1, -1, -1, -1, -1, -1, -1, -1, -1, -1, -1, -1,\n",
       "       -1, -1, -1, -1, -1, -1, -1, -1, -1, -1, -1, -1, -1, -1, -1, -1, -1,\n",
       "       -1, -1, -1, -1, -1, -1, -1, -1, -1, -1, -1, -1, -1, -1, -1, -1, -1,\n",
       "       -1, -1, -1, -1, -1, -1, -1, -1, -1, -1, -1, -1, -1, -1, -1, -1, -1,\n",
       "       -1, -1, -1, -1, -1, -1, -1, -1, -1, -1, -1, -1, -1, -1, -1, -1, -1,\n",
       "       -1, -1, -1, -1, -1, -1, -1, -1, -1, -1, -1, -1, -1, -1, -1, -1, -1,\n",
       "       -1, -1, -1, -1, -1, -1, -1, -1, -1, -1, -1, -1, -1, -1, -1, -1, -1,\n",
       "       -1, -1, -1, -1, -1, -1, -1, -1, -1, -1, -1, -1, -1, -1, -1, -1, -1,\n",
       "       -1, -1, -1, -1, -1, -1, -1, -1, -1, -1, -1, -1, -1, -1, -1, -1, -1,\n",
       "       -1, -1, -1, -1, -1, -1, -1, -1, -1, -1, -1, -1, -1, -1, -1, -1, -1,\n",
       "       -1, -1, -1, -1, -1, -1, -1, -1, -1, -1, -1, -1, -1, -1, -1, -1, -1,\n",
       "       -1, -1, -1, -1, -1, -1, -1, -1, -1, -1, -1, -1, -1, -1, -1, -1, -1,\n",
       "       -1, -1, -1, -1, -1, -1, -1, -1, -1, -1, -1, -1, -1, -1, -1, -1, -1,\n",
       "       -1, -1, -1, -1, -1, -1, -1, -1, -1, -1, -1, -1, -1, -1, -1, -1, -1,\n",
       "       -1, -1, -1, -1, -1, -1, -1, -1, -1, -1, -1, -1, -1, -1, -1, -1, -1,\n",
       "       -1, -1, -1, -1, -1, -1, -1, -1, -1, -1, -1, -1, -1, -1, -1, -1, -1,\n",
       "       -1, -1, -1, -1, -1, -1, -1, -1, -1, -1, -1, -1, -1, -1, -1, -1, -1,\n",
       "       -1, -1, -1, -1, -1, -1, -1, -1, -1, -1, -1, -1, -1, -1, -1, -1, -1,\n",
       "       -1, -1, -1, -1, -1, -1, -1, -1, -1, -1, -1, -1, -1, -1, -1, -1, -1,\n",
       "       -1, -1, -1, -1, -1, -1, -1, -1, -1, -1, -1, -1, -1, -1, -1, -1, -1,\n",
       "       -1, -1, -1, -1, -1, -1, -1, -1, -1, -1, -1, -1, -1, -1, -1, -1, -1,\n",
       "       -1, -1, -1, -1, -1, -1, -1, -1, -1, -1, -1, -1, -1, -1, -1, -1, -1,\n",
       "       -1, -1, -1, -1, -1, -1, -1, -1, -1, -1, -1, -1, -1, -1, -1, -1, -1,\n",
       "       -1, -1, -1, -1, -1, -1, -1, -1, -1, -1, -1, -1, -1, -1, -1, -1, -1,\n",
       "       -1, -1, -1, -1, -1, -1, -1, -1, -1, -1, -1, -1, -1, -1, -1, -1, -1,\n",
       "       -1, -1, -1, -1, -1, -1, -1, -1, -1, -1, -1, -1, -1, -1, -1, -1, -1,\n",
       "       -1, -1, -1, -1, -1, -1, -1, -1, -1, -1, -1, -1, -1, -1, -1, -1, -1,\n",
       "       -1, -1, -1, -1, -1, -1, -1, -1, -1, -1, -1, -1, -1, -1, -1, -1, -1,\n",
       "       -1, -1, -1, -1, -1, -1, -1, -1, -1, -1, -1, -1, -1, -1, -1, -1, -1,\n",
       "       -1, -1, -1, -1, -1, -1, -1, -1, -1, -1, -1, -1, -1, -1, -1, -1, -1,\n",
       "       -1, -1, -1, -1, -1, -1, -1, -1, -1, -1, -1, -1, -1, -1, -1, -1, -1,\n",
       "       -1, -1, -1, -1, -1, -1, -1, -1, -1, -1, -1, -1, -1, -1, -1, -1, -1,\n",
       "       -1, -1, -1, -1, -1, -1, -1, -1, -1, -1, -1, -1, -1, -1, -1, -1, -1,\n",
       "       -1, -1, -1, -1, -1, -1, -1, -1, -1, -1, -1, -1, -1, -1, -1, -1, -1,\n",
       "       -1, -1, -1, -1, -1, -1, -1, -1, -1, -1, -1, -1])"
      ]
     },
     "execution_count": 27,
     "metadata": {},
     "output_type": "execute_result"
    }
   ],
   "source": [
    "lab"
   ]
  },
  {
   "cell_type": "markdown",
   "metadata": {},
   "source": [
    "Cluster labels for each point in the dataset given to fit(). Noisy samples are given the label -1."
   ]
  },
  {
   "cell_type": "markdown",
   "metadata": {},
   "source": [
    "### no dobra, a jak będziemy grupować po 8?"
   ]
  },
  {
   "cell_type": "code",
   "execution_count": 33,
   "metadata": {},
   "outputs": [
    {
     "data": {
      "text/plain": [
       "{'homogeneity_score': 0.5594447643120913,\n",
       " 'completeness_score': 0.5330019854326977,\n",
       " 'v_measure_score': 0.5459033498665863}"
      ]
     },
     "execution_count": 33,
     "metadata": {},
     "output_type": "execute_result"
    }
   ],
   "source": [
    "cv = CountVectorizer(stop_words = 'english')\n",
    "df_count = cv.fit_transform(df)\n",
    "\n",
    "lab, scores = train_fast(df_count, AgglomerativeClustering, get_labels(False), n_clusters=8)\n",
    "scores"
   ]
  },
  {
   "cell_type": "code",
   "execution_count": 34,
   "metadata": {
    "scrolled": true
   },
   "outputs": [
    {
     "data": {
      "text/plain": [
       "{'homogeneity_score': 0.40259838528734326,\n",
       " 'completeness_score': 0.35210201942854397,\n",
       " 'v_measure_score': 0.37566086778954255}"
      ]
     },
     "execution_count": 34,
     "metadata": {},
     "output_type": "execute_result"
    }
   ],
   "source": [
    "lab, scores = train_fast(df_count, AgglomerativeClustering, get_labels(False), n_clusters=8, linkage =  \"complete\")\n",
    "scores"
   ]
  },
  {
   "cell_type": "code",
   "execution_count": 35,
   "metadata": {},
   "outputs": [
    {
     "data": {
      "text/plain": [
       "{'homogeneity_score': 0.2370086420254117,\n",
       " 'completeness_score': 0.5045610676796211,\n",
       " 'v_measure_score': 0.32251946622039124}"
      ]
     },
     "execution_count": 35,
     "metadata": {},
     "output_type": "execute_result"
    }
   ],
   "source": [
    "lab, scores = train_fast(df_count, AgglomerativeClustering, get_labels(False), n_clusters=8, linkage =  \"average\")\n",
    "scores"
   ]
  },
  {
   "cell_type": "code",
   "execution_count": 36,
   "metadata": {},
   "outputs": [
    {
     "data": {
      "text/plain": [
       "{'homogeneity_score': 0.02146117023707067,\n",
       " 'completeness_score': 0.4280269739509705,\n",
       " 'v_measure_score': 0.040872979066504986}"
      ]
     },
     "execution_count": 36,
     "metadata": {},
     "output_type": "execute_result"
    }
   ],
   "source": [
    "lab, scores = train_fast(df_count, AgglomerativeClustering, get_labels(False), n_clusters=8, linkage =  \"single\")\n",
    "scores"
   ]
  },
  {
   "cell_type": "markdown",
   "metadata": {},
   "source": [
    "Still bad, ale minimalnie lepiej niż po 5"
   ]
  }
 ],
 "metadata": {
  "kernelspec": {
   "display_name": "Python 3.7.1 64-bit ('3.7.1': pyenv)",
   "language": "python",
   "name": "python37164bit371pyenv8b58cff780124c0e86c6832805abcd0c"
  },
  "language_info": {
   "codemirror_mode": {
    "name": "ipython",
    "version": 3
   },
   "file_extension": ".py",
   "mimetype": "text/x-python",
   "name": "python",
   "nbconvert_exporter": "python",
   "pygments_lexer": "ipython3",
   "version": "3.7.1"
  }
 },
 "nbformat": 4,
 "nbformat_minor": 4
}
