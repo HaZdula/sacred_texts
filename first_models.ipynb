{
 "cells": [
  {
   "cell_type": "code",
   "execution_count": 104,
   "metadata": {},
   "outputs": [],
   "source": [
    "from sklearn.feature_extraction.text import TfidfTransformer, TfidfVectorizer, CountVectorizer\n",
    "from sklearn.metrics import accuracy_score\n",
    "from get_nice_text import *\n",
    "import pandas as pd\n",
    "import re\n",
    "import numpy as np"
   ]
  },
  {
   "cell_type": "code",
   "execution_count": 4,
   "metadata": {},
   "outputs": [],
   "source": [
    "df = get_nice_text()"
   ]
  },
  {
   "cell_type": "code",
   "execution_count": 6,
   "metadata": {},
   "outputs": [],
   "source": [
    "cv = CountVectorizer()"
   ]
  },
  {
   "cell_type": "code",
   "execution_count": 123,
   "metadata": {},
   "outputs": [],
   "source": [
    "df_count = cv.fit_transform(df)"
   ]
  },
  {
   "cell_type": "code",
   "execution_count": 11,
   "metadata": {},
   "outputs": [],
   "source": [
    "trans = TfidfTransformer()"
   ]
  },
  {
   "cell_type": "code",
   "execution_count": 13,
   "metadata": {},
   "outputs": [],
   "source": [
    "x = trans.fit_transform(df_count)"
   ]
  },
  {
   "cell_type": "code",
   "execution_count": 17,
   "metadata": {},
   "outputs": [],
   "source": [
    "from sklearn.cluster import KMeans\n",
    "model = KMeans()\n",
    "lab = model.fit_predict(x)"
   ]
  },
  {
   "cell_type": "code",
   "execution_count": 29,
   "metadata": {},
   "outputs": [],
   "source": [
    "df_lab = pd.read_csv('./AllBooks_baseline_DTM_Labelled.csv')\n",
    "names = list(df_lab.iloc[:,0])"
   ]
  },
  {
   "cell_type": "markdown",
   "metadata": {},
   "source": [
    "All in one czy Vectorizer"
   ]
  },
  {
   "cell_type": "code",
   "execution_count": 82,
   "metadata": {},
   "outputs": [],
   "source": [
    "vek = TfidfVectorizer()\n",
    "x = vek.fit_transform(df)"
   ]
  },
  {
   "cell_type": "markdown",
   "metadata": {},
   "source": [
    "wyciagnie labelsow poprawnych"
   ]
  },
  {
   "cell_type": "code",
   "execution_count": 78,
   "metadata": {},
   "outputs": [],
   "source": [
    "labels = [re.match(\"^[a-zA-Z]+\", n).group(0) for n in names]"
   ]
  },
  {
   "cell_type": "code",
   "execution_count": 90,
   "metadata": {},
   "outputs": [
    {
     "data": {
      "text/plain": [
       "array([4, 7, 7, 7, 7, 3, 3, 3, 0, 0, 3, 0, 0, 0, 0, 0, 3, 3, 3, 3, 3, 4,\n",
       "       0, 7, 7, 0, 3, 3, 3, 3, 0, 7, 7, 3, 3, 4, 7, 7, 7, 0, 3, 7, 1, 7,\n",
       "       7, 7, 7, 5, 4, 4, 4, 7, 4, 7, 4, 4, 4, 7, 4, 4, 4, 4, 4, 7, 7, 7,\n",
       "       4, 3, 4, 4, 4, 4, 4, 7, 4, 4, 7, 4, 4, 4, 7, 4, 4, 4, 4, 7, 4, 4,\n",
       "       7, 4, 7, 7, 4, 4, 4, 7, 4, 6, 4, 7, 4, 4, 7, 7, 7, 4, 7, 4, 4, 4,\n",
       "       4, 4, 7, 4, 3, 4, 4, 4, 4, 4, 4, 7, 4, 4, 7, 4, 4, 5, 7, 7, 3, 4,\n",
       "       3, 3, 3, 3, 1, 7, 3, 1, 7, 7, 7, 7, 7, 3, 7, 4, 4, 7, 0, 7, 0, 0,\n",
       "       0, 0, 7, 4, 7, 0, 7, 7, 7, 0, 0, 1, 0, 7, 4, 7, 1, 7, 3, 7, 0, 7,\n",
       "       7, 4, 1, 1, 1, 7, 7, 7, 7, 0, 7, 3, 7, 0, 0, 3, 4, 3, 4, 3, 7, 7,\n",
       "       3, 3, 3, 3, 4, 3, 3, 3, 3, 4, 3, 7, 3, 7, 3, 7, 1, 3, 3, 7, 7, 7,\n",
       "       3, 3, 7, 7, 3, 7, 3, 7, 3, 3, 1, 7, 7, 3, 0, 0, 3, 3, 3, 0, 7, 7,\n",
       "       7, 7, 7, 3, 3, 3, 3, 3, 3, 1, 7, 7, 3, 7, 7, 7, 5, 1, 1, 1, 1, 1,\n",
       "       1, 4, 4, 3, 7, 4, 0, 0, 0, 0, 0, 0, 0, 0, 0, 4, 0, 7, 7, 7, 7, 1,\n",
       "       3, 7, 5, 5, 5, 5, 5, 5, 7, 7, 7, 7, 5, 5, 7, 7, 5, 5, 5, 7, 7, 1,\n",
       "       7, 5, 7, 5, 7, 7, 5, 5, 5, 5, 7, 5, 5, 7, 7, 7, 7, 7, 7, 4, 5, 5,\n",
       "       5, 5, 7, 5, 5, 7, 7, 5, 5, 5, 5, 7, 5, 5, 7, 7, 5, 5, 7, 7, 7, 7,\n",
       "       3, 5, 5, 5, 5, 5, 5, 7, 5, 5, 5, 7, 5, 7, 7, 7, 5, 5, 5, 5, 5, 4,\n",
       "       7, 5, 5, 7, 7, 3, 5, 5, 7, 5, 5, 5, 5, 7, 7, 5, 5, 5, 5, 5, 7, 5,\n",
       "       5, 7, 5, 5, 5, 5, 5, 7, 7, 5, 7, 5, 7, 7, 7, 5, 7, 7, 7, 7, 5, 7,\n",
       "       5, 5, 5, 5, 5, 5, 5, 5, 5, 5, 5, 5, 5, 5, 5, 5, 5, 5, 7, 5, 5, 5,\n",
       "       7, 7, 5, 7, 5, 5, 5, 5, 5, 5, 7, 7, 5, 5, 5, 7, 7, 7, 7, 5, 4, 5,\n",
       "       5, 5, 5, 5, 5, 5, 7, 5, 7, 7, 5, 3, 7, 5, 5, 5, 2, 2, 2, 2, 2, 2,\n",
       "       2, 6, 2, 6, 6, 6, 6, 6, 6, 6, 6, 6, 6, 6, 6, 6, 2, 2, 2, 6, 2, 6,\n",
       "       6, 6, 2, 6, 6, 6, 6, 2, 6, 6, 6, 6, 6, 2, 6, 6, 6, 6, 2, 2, 2, 2,\n",
       "       2, 2, 6, 2, 2, 2, 2, 6, 6, 6, 2, 2, 6, 6, 6, 2, 6, 2, 6, 6, 2, 2,\n",
       "       6, 2, 2, 2, 6, 6, 2, 2, 6, 6, 6, 2, 6, 6, 6, 6, 6, 6, 6, 6, 2, 6,\n",
       "       6, 6, 6, 6, 6, 6, 2, 2, 6, 6, 2, 6, 6, 6, 2, 4, 6, 6], dtype=int32)"
      ]
     },
     "execution_count": 90,
     "metadata": {},
     "output_type": "execute_result"
    }
   ],
   "source": [
    "lab"
   ]
  },
  {
   "cell_type": "code",
   "execution_count": 83,
   "metadata": {},
   "outputs": [],
   "source": [
    "model = KMeans(n_clusters=8)\n",
    "lab = model.fit_predict(x)"
   ]
  },
  {
   "cell_type": "code",
   "execution_count": 91,
   "metadata": {},
   "outputs": [
    {
     "data": {
      "text/plain": [
       "array([4, 7, 7, 7, 7, 3, 3, 3, 0, 0, 3, 0, 0, 0, 0, 0, 3, 3, 3, 3, 3, 4,\n",
       "       0, 7, 7, 0, 3, 3, 3, 3, 0, 7, 7, 3, 3, 4, 7, 7, 7, 0, 3, 7, 1, 7,\n",
       "       7, 7, 7, 5, 4, 4, 4, 7, 4, 7, 4, 4, 4, 7, 4, 4, 4, 4, 4, 7, 7, 7,\n",
       "       4, 3, 4, 4, 4, 4, 4, 7, 4, 4, 7, 4, 4, 4, 7, 4, 4, 4, 4, 7, 4, 4,\n",
       "       7, 4, 7, 7, 4, 4, 4, 7, 4, 6, 4, 7, 4, 4, 7, 7, 7, 4, 7, 4, 4, 4,\n",
       "       4, 4, 7, 4, 3, 4, 4, 4, 4, 4, 4, 7, 4, 4, 7, 4, 4, 5, 7, 7, 3, 4,\n",
       "       3, 3, 3, 3, 1, 7, 3, 1, 7, 7, 7, 7, 7, 3, 7, 4, 4, 7, 0, 7, 0, 0,\n",
       "       0, 0, 7, 4, 7, 0, 7, 7, 7, 0, 0, 1, 0, 7, 4, 7, 1, 7, 3, 7, 0, 7,\n",
       "       7, 4, 1, 1, 1, 7, 7, 7, 7, 0, 7, 3, 7, 0, 0, 3, 4, 3, 4, 3, 7, 7,\n",
       "       3, 3, 3, 3, 4, 3, 3, 3, 3, 4, 3, 7, 3, 7, 3, 7, 1, 3, 3, 7, 7, 7,\n",
       "       3, 3, 7, 7, 3, 7, 3, 7, 3, 3, 1, 7, 7, 3, 0, 0, 3, 3, 3, 0, 7, 7,\n",
       "       7, 7, 7, 3, 3, 3, 3, 3, 3, 1, 7, 7, 3, 7, 7, 7, 5, 1, 1, 1, 1, 1,\n",
       "       1, 4, 4, 3, 7, 4, 0, 0, 0, 0, 0, 0, 0, 0, 0, 4, 0, 7, 7, 7, 7, 1,\n",
       "       3, 7, 5, 5, 5, 5, 5, 5, 7, 7, 7, 7, 5, 5, 7, 7, 5, 5, 5, 7, 7, 1,\n",
       "       7, 5, 7, 5, 7, 7, 5, 5, 5, 5, 7, 5, 5, 7, 7, 7, 7, 7, 7, 4, 5, 5,\n",
       "       5, 5, 7, 5, 5, 7, 7, 5, 5, 5, 5, 7, 5, 5, 7, 7, 5, 5, 7, 7, 7, 7,\n",
       "       3, 5, 5, 5, 5, 5, 5, 7, 5, 5, 5, 7, 5, 7, 7, 7, 5, 5, 5, 5, 5, 4,\n",
       "       7, 5, 5, 7, 7, 3, 5, 5, 7, 5, 5, 5, 5, 7, 7, 5, 5, 5, 5, 5, 7, 5,\n",
       "       5, 7, 5, 5, 5, 5, 5, 7, 7, 5, 7, 5, 7, 7, 7, 5, 7, 7, 7, 7, 5, 7,\n",
       "       5, 5, 5, 5, 5, 5, 5, 5, 5, 5, 5, 5, 5, 5, 5, 5, 5, 5, 7, 5, 5, 5,\n",
       "       7, 7, 5, 7, 5, 5, 5, 5, 5, 5, 7, 7, 5, 5, 5, 7, 7, 7, 7, 5, 4, 5,\n",
       "       5, 5, 5, 5, 5, 5, 7, 5, 7, 7, 5, 3, 7, 5, 5, 5, 2, 2, 2, 2, 2, 2,\n",
       "       2, 6, 2, 6, 6, 6, 6, 6, 6, 6, 6, 6, 6, 6, 6, 6, 2, 2, 2, 6, 2, 6,\n",
       "       6, 6, 2, 6, 6, 6, 6, 2, 6, 6, 6, 6, 6, 2, 6, 6, 6, 6, 2, 2, 2, 2,\n",
       "       2, 2, 6, 2, 2, 2, 2, 6, 6, 6, 2, 2, 6, 6, 6, 2, 6, 2, 6, 6, 2, 2,\n",
       "       6, 2, 2, 2, 6, 6, 2, 2, 6, 6, 6, 2, 6, 6, 6, 6, 6, 6, 6, 6, 2, 6,\n",
       "       6, 6, 6, 6, 6, 6, 2, 2, 6, 6, 2, 6, 6, 6, 2, 4, 6, 6], dtype=int32)"
      ]
     },
     "execution_count": 91,
     "metadata": {},
     "output_type": "execute_result"
    }
   ],
   "source": [
    "lab"
   ]
  },
  {
   "cell_type": "markdown",
   "metadata": {},
   "source": [
    "Inny model"
   ]
  },
  {
   "cell_type": "code",
   "execution_count": 101,
   "metadata": {},
   "outputs": [],
   "source": [
    "xx = x.todense() != 0"
   ]
  },
  {
   "cell_type": "code",
   "execution_count": 115,
   "metadata": {
    "scrolled": true
   },
   "outputs": [],
   "source": [
    "xx = xx.reshape(1,4923550)"
   ]
  },
  {
   "cell_type": "code",
   "execution_count": 122,
   "metadata": {},
   "outputs": [
    {
     "data": {
      "text/plain": [
       "matrix([[0.02191023, 0.24199403, 0.39972823, ..., 0.027298  , 0.03386059,\n",
       "         0.06222781]])"
      ]
     },
     "execution_count": 122,
     "metadata": {},
     "output_type": "execute_result"
    }
   ],
   "source": [
    "x.todense().reshape(1,4923550)[xx]"
   ]
  },
  {
   "cell_type": "code",
   "execution_count": null,
   "metadata": {},
   "outputs": [],
   "source": []
  },
  {
   "cell_type": "code",
   "execution_count": null,
   "metadata": {},
   "outputs": [],
   "source": []
  }
 ],
 "metadata": {
  "kernelspec": {
   "display_name": "Python 3.7.1 64-bit ('3.7.1': pyenv)",
   "language": "python",
   "name": "python37164bit371pyenv8b58cff780124c0e86c6832805abcd0c"
  },
  "language_info": {
   "codemirror_mode": {
    "name": "ipython",
    "version": 3
   },
   "file_extension": ".py",
   "mimetype": "text/x-python",
   "name": "python",
   "nbconvert_exporter": "python",
   "pygments_lexer": "ipython3",
   "version": "3.7.1"
  }
 },
 "nbformat": 4,
 "nbformat_minor": 4
}
